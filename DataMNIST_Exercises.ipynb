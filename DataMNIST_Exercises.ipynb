{
 "cells": [
  {
   "cell_type": "markdown",
   "metadata": {},
   "source": [
    "## 練習問題 (A)"
   ]
  },
  {
   "cell_type": "markdown",
   "metadata": {},
   "source": [
    "### A-1"
   ]
  },
  {
   "cell_type": "markdown",
   "metadata": {},
   "source": [
    "非負の整数しか出てこないため`signed`は結果に影響を与えない。"
   ]
  },
  {
   "cell_type": "markdown",
   "metadata": {},
   "source": [
    "### A-2"
   ]
  },
  {
   "cell_type": "markdown",
   "metadata": {},
   "source": [
    "バイナリデータを読み込む際の順番に影響し、`big`では上から順にそのまま、`little`では逆順にデータを読み込む。\n",
    "\n",
    "そのため、下記のようにbyteorderを変えると同時にビットの順番を逆順にすれば同じ結果を出力する。"
   ]
  },
  {
   "cell_type": "code",
   "execution_count": 2,
   "metadata": {},
   "outputs": [
    {
     "name": "stdout",
     "output_type": "stream",
     "text": [
      " int:  2051\n",
      " int:  2051\n"
     ]
    }
   ],
   "source": [
    "b = b'\\x00\\x00\\x08\\x03'\n",
    "print(\" int: \", int.from_bytes(b, byteorder=\"big\", signed=True))\n",
    "\n",
    "b = b'\\x03\\x08\\x00\\x00'\n",
    "print(\" int: \", int.from_bytes(b, byteorder=\"little\", signed=True))"
   ]
  },
  {
   "cell_type": "markdown",
   "metadata": {
    "collapsed": true
   },
   "source": [
    "### A-3"
   ]
  },
  {
   "cell_type": "code",
   "execution_count": 3,
   "metadata": {},
   "outputs": [
    {
     "data": {
      "image/png": "[encoded data removed]",
      "text/plain": [
       "<matplotlib.figure.Figure at 0x104947208>"
      ]
     },
     "metadata": {},
     "output_type": "display_data"
    },
    {
     "data": {
      "image/png": "[encoded data removed]",
      "text/plain": [
       "<matplotlib.figure.Figure at 0x10df33e10>"
      ]
     },
     "metadata": {},
     "output_type": "display_data"
    },
    {
     "name": "stdout",
     "output_type": "stream",
     "text": [
      "Successfully closed.\n"
     ]
    }
   ],
   "source": [
    "import numpy as np\n",
    "import matplotlib.pyplot as plt\n",
    "\n",
    "toread = \"data/MNIST/train-images-idx3-ubyte\"\n",
    "\n",
    "f_bin = open(toread, mode=\"rb\")\n",
    "\n",
    "f_bin.seek(4*4)\n",
    "\n",
    "n = 60000 # (anticipated) number of images.\n",
    "d = 28*28 # number of entries (int values) per image.\n",
    "cmap_list = [plt.cm.copper, plt.cm.Accent]\n",
    "bytes_left = d\n",
    "data_x = np.zeros((d,), dtype=np.uint8) # initialize.\n",
    "\n",
    "for cmap in cmap_list:\n",
    "\n",
    "    idx = 0\n",
    "    while idx < bytes_left:\n",
    "        # Iterate one byte at a time.\n",
    "        b = f_bin.read(1)\n",
    "        data_x[idx] = int.from_bytes(b, byteorder=\"big\", signed=False)\n",
    "        idx += 1\n",
    "\n",
    "    img_x = data_x.reshape( (28,28) ) # populate one row at a time.\n",
    "    \n",
    "    plt.imshow(img_x, cmap=cmap)\n",
    "    plt.show()\n",
    "\n",
    "\n",
    "f_bin.close()\n",
    "if f_bin.closed:\n",
    "    print(\"Successfully closed.\")"
   ]
  },
  {
   "cell_type": "markdown",
   "metadata": {},
   "source": [
    "### A-4"
   ]
  },
  {
   "cell_type": "code",
   "execution_count": 4,
   "metadata": {},
   "outputs": [
    {
     "name": "stdout",
     "output_type": "stream",
     "text": [
      "Successfully closed.\n",
      "Successfully closed.\n"
     ]
    }
   ],
   "source": [
    "def save_images(is_train):\n",
    "\n",
    "    toread = \"data/MNIST/train-images-idx3-ubyte\" if is_train else \"data/MNIST/t10k-images-idx3-ubyte\"\n",
    "\n",
    "    f_bin = open(toread, mode=\"rb\")\n",
    "\n",
    "    f_bin.seek(4*4)\n",
    "\n",
    "    n = 60000 if is_train else 10000\n",
    "    d = 28*28\n",
    "    times_todo = 10\n",
    "    bytes_left = d\n",
    "    data_x = np.zeros((d,), dtype=np.uint8) # initialize.\n",
    "\n",
    "    prefix = \"MNIST_train_\" if is_train else \"MNIST_test_\"\n",
    "    \n",
    "    for t in range(times_todo):\n",
    "\n",
    "        idx = 0\n",
    "        while idx < bytes_left:\n",
    "            # Iterate one byte at a time.\n",
    "            b = f_bin.read(1)\n",
    "            data_x[idx] = int.from_bytes(b, byteorder=\"big\", signed=False)\n",
    "            idx += 1\n",
    "\n",
    "        img_x = data_x.reshape( (28,28) ) # populate one row at a time.\n",
    "        plt.imshow(img_x, cmap=plt.cm.binary)\n",
    "        plt.savefig(('output/' + prefix+str(t)+\".png\"))\n",
    "\n",
    "    f_bin.close()\n",
    "    if f_bin.closed:\n",
    "        print(\"Successfully closed.\")\n",
    "        \n",
    "save_images(is_train=True)\n",
    "save_images(is_train=False)"
   ]
  },
  {
   "cell_type": "markdown",
   "metadata": {},
   "source": [
    "## 練習問題 (B)"
   ]
  },
  {
   "cell_type": "markdown",
   "metadata": {},
   "source": [
    "### B-1"
   ]
  },
  {
   "cell_type": "code",
   "execution_count": 5,
   "metadata": {},
   "outputs": [
    {
     "name": "stdout",
     "output_type": "stream",
     "text": [
      "training data\n",
      "Label = 5\n",
      "Label = 0\n",
      "Label = 4\n",
      "Label = 1\n",
      "Label = 9\n",
      "Label = 2\n",
      "Label = 1\n",
      "Label = 3\n",
      "Label = 1\n",
      "Label = 4\n",
      "test data\n",
      "Label = 7\n",
      "Label = 2\n",
      "Label = 1\n",
      "Label = 0\n",
      "Label = 4\n",
      "Label = 1\n",
      "Label = 4\n",
      "Label = 9\n",
      "Label = 5\n",
      "Label = 9\n"
     ]
    }
   ],
   "source": [
    "def read_label(is_train):\n",
    "    \n",
    "    print(\"training data\" if is_train else \"test data\")\n",
    "    toread = \"data/MNIST/train-labels-idx1-ubyte\" if is_train else \"data/MNIST/t10k-labels-idx1-ubyte\"\n",
    "\n",
    "    f_bin = open(toread, mode=\"rb\")\n",
    "\n",
    "    f_bin.seek(8)\n",
    "    \n",
    "    for t in range(10):\n",
    "\n",
    "        b = f_bin.read(1)\n",
    "        mylabel = int.from_bytes(b, byteorder=\"big\", signed=False)\n",
    "\n",
    "        print(\"Label =\", mylabel)\n",
    "\n",
    "read_label(is_train=True)\n",
    "read_label(is_train=False)"
   ]
  },
  {
   "cell_type": "markdown",
   "metadata": {},
   "source": [
    "目視で一致を確認した。"
   ]
  },
  {
   "cell_type": "markdown",
   "metadata": {},
   "source": [
    "### B-2"
   ]
  },
  {
   "cell_type": "code",
   "execution_count": 7,
   "metadata": {},
   "outputs": [
    {
     "name": "stdout",
     "output_type": "stream",
     "text": [
      "Label = 5\n",
      "Label = 0\n",
      "Label = 4\n"
     ]
    }
   ],
   "source": [
    "def seek_label(k):\n",
    "\n",
    "    toread = \"data/MNIST/train-labels-idx1-ubyte\"\n",
    "    f_bin = open(toread, mode=\"rb\")\n",
    "    \n",
    "    f_bin.seek(8 + k)\n",
    "    b = f_bin.read(1)\n",
    "    mylabel = int.from_bytes(b, byteorder=\"big\", signed=False)\n",
    "    \n",
    "    print(\"Label =\", mylabel)\n",
    "    \n",
    "seek_label(0)\n",
    "seek_label(1)\n",
    "seek_label(2)"
   ]
  },
  {
   "cell_type": "markdown",
   "metadata": {},
   "source": [
    "### B-3"
   ]
  },
  {
   "cell_type": "code",
   "execution_count": 9,
   "metadata": {},
   "outputs": [
    {
     "data": {
      "image/png": "[encoded data removed]",
      "text/plain": [
       "<matplotlib.figure.Figure at 0x10e392550>"
      ]
     },
     "metadata": {},
     "output_type": "display_data"
    },
    {
     "data": {
      "image/png": "[encoded data removed]",
      "text/plain": [
       "<matplotlib.figure.Figure at 0x10e392588>"
      ]
     },
     "metadata": {},
     "output_type": "display_data"
    },
    {
     "data": {
      "image/png": "[encoded data removed]",
      "text/plain": [
       "<matplotlib.figure.Figure at 0x10ddfa0f0>"
      ]
     },
     "metadata": {},
     "output_type": "display_data"
    }
   ],
   "source": [
    "import numpy as np\n",
    "import matplotlib.pyplot as plt\n",
    "\n",
    "def seek_image(k):\n",
    "\n",
    "    toread = \"data/MNIST/train-images-idx3-ubyte\"\n",
    "\n",
    "    f_bin = open(toread, mode=\"rb\")\n",
    "\n",
    "    n = 60000 # (anticipated) number of images.\n",
    "    d = 28*28 # number of entries (int values) per image.\n",
    "    times_todo = 5 # number of images to view.\n",
    "    bytes_left = d\n",
    "    data_x = np.zeros((d,), dtype=np.uint8) # initialize.\n",
    "    idx = 0\n",
    "    \n",
    "    f_bin.seek(4*4 + d*k)\n",
    "\n",
    "    while idx < bytes_left:\n",
    "        b = f_bin.read(1)\n",
    "        data_x[idx] = int.from_bytes(b, byteorder=\"big\", signed=False)\n",
    "        idx += 1\n",
    "    img_x = data_x.reshape((28,28))\n",
    "    plt.imshow(img_x, cmap=plt.cm.binary)\n",
    "    plt.show()\n",
    "\n",
    "    f_bin.close()\n",
    "\n",
    "seek_image(0)\n",
    "seek_image(1)\n",
    "seek_image(2)"
   ]
  },
  {
   "cell_type": "markdown",
   "metadata": {},
   "source": [
    "## 練習問題 (C)"
   ]
  },
  {
   "cell_type": "markdown",
   "metadata": {},
   "source": [
    "### C-1, C-2"
   ]
  },
  {
   "cell_type": "code",
   "execution_count": 13,
   "metadata": {},
   "outputs": [
    {
     "name": "stdout",
     "output_type": "stream",
     "text": [
      "Reading binary file... Done reading... OK, file closed.\n",
      "Min: 0\n",
      "Mean: 33.7912244898\n",
      "Median: 0.0\n",
      "Max: 255\n",
      "StdDev: 79.1724632223\n",
      "Min: 0.0\n",
      "Mean: 0.132515\n",
      "Median: 0.0\n",
      "Max: 1.0\n",
      "StdDev: 0.31048\n",
      "Writing binary file... OK.\n",
      "OK.\n",
      "Shapes: (7840000,) (7840000,)\n",
      "Difference = 0.0\n"
     ]
    }
   ],
   "source": [
    "def save_images(is_train):\n",
    "    toread = \"data/MNIST/train-images-idx3-ubyte\" if is_train else \"data/MNIST/t10k-images-idx3-ubyte\"\n",
    "\n",
    "    n = 60000 if is_train else 10000\n",
    "    d = 28*28\n",
    "    bytes_left = n * d\n",
    "    data_X = np.empty((n*d,), dtype=np.uint8)\n",
    "\n",
    "    with open(toread, mode=\"rb\") as f_bin:\n",
    "\n",
    "        f_bin.seek(16) # go to start of images.\n",
    "        idx = 0\n",
    "\n",
    "        print(\"Reading binary file...\", end=\" \")\n",
    "        while bytes_left > 0:\n",
    "            b = f_bin.read(1)\n",
    "            data_X[idx] = int.from_bytes(b, byteorder=\"big\", signed=False)\n",
    "            bytes_left -= 1\n",
    "            idx += 1\n",
    "        print(\"Done reading...\", end=\" \")\n",
    "    print(\"OK, file closed.\")\n",
    "\n",
    "    print(\"Min:\", np.min(data_X))\n",
    "    print(\"Mean:\", np.mean(data_X))\n",
    "    print(\"Median:\", np.median(data_X))\n",
    "    print(\"Max:\", np.max(data_X))\n",
    "    print(\"StdDev:\", np.std(data_X))\n",
    "\n",
    "    data_X_float = np.empty(data_X.shape, dtype=np.float32)\n",
    "    data_X_float = np.float32((data_X - np.min(data_X))/(np.max(data_X) - np.min(data_X)))\n",
    "\n",
    "    print(\"Min:\", np.min(data_X_float))\n",
    "    print(\"Mean:\", np.mean(data_X_float))\n",
    "    print(\"Median:\", np.median(data_X_float))\n",
    "    print(\"Max:\", np.max(data_X_float))\n",
    "    print(\"StdDev:\", np.std(data_X_float))\n",
    "    \n",
    "    print(\"Writing binary file...\", end=\" \")\n",
    "    towrite = \"data/MNIST/X_tr.dat\" if is_train else \"data/MNIST/X_te.dat\"\n",
    "    with open(towrite, mode=\"bw\") as g_bin:\n",
    "        data_X_float.tofile(g_bin) # don't forget the dtype used.\n",
    "    print(\"OK.\")\n",
    "    \n",
    "    with open(towrite, mode=\"br\") as g_bin:\n",
    "        data_X_check = np.fromfile(g_bin, dtype=np.float32)\n",
    "    print(\"OK.\")\n",
    "\n",
    "    print(\"Shapes:\", data_X_check.shape, data_X_float.shape)\n",
    "    print(\"Difference =\", np.linalg.norm(data_X_check-data_X_float))\n",
    "\n",
    "save_images(is_train=False)"
   ]
  },
  {
   "cell_type": "code",
   "execution_count": 24,
   "metadata": {},
   "outputs": [
    {
     "name": "stdout",
     "output_type": "stream",
     "text": [
      "Reading binary file... Done reading... OK, file closed.\n",
      "Min: 0\n",
      "Mean: 4.4434\n",
      "Median: 4.0\n",
      "Max: 9\n",
      "StdDev: 2.89572036633\n",
      "Bin counts:\n",
      "[ 980 1135 1032 1010  982  892  958 1028  974 1009]\n"
     ]
    },
    {
     "data": {
      "image/png": "[encoded data removed]",
      "text/plain": [
       "<matplotlib.figure.Figure at 0x11709ea58>"
      ]
     },
     "metadata": {},
     "output_type": "display_data"
    },
    {
     "name": "stdout",
     "output_type": "stream",
     "text": [
      "Writing binary file... OK.\n",
      "OK.\n",
      "Shapes: (10000,) (10000,)\n",
      "Difference = 0.0\n"
     ]
    }
   ],
   "source": [
    "def save_labels(is_train):\n",
    "\n",
    "    toread = \"data/MNIST/train-labels-idx1-ubyte\" if is_train else \"data/MNIST/t10k-labels-idx1-ubyte\"\n",
    "\n",
    "    n = 60000 if is_train else 10000\n",
    "    bytes_left = n\n",
    "    data_y = np.empty((n,), dtype=np.uint8)\n",
    "\n",
    "    with open(toread, mode=\"rb\") as f_bin:\n",
    "\n",
    "        f_bin.seek(8) # go to start of the labels.\n",
    "        idx = 0\n",
    "\n",
    "        print(\"Reading binary file...\", end=\" \")\n",
    "        while bytes_left > 0:\n",
    "            b = f_bin.read(1)\n",
    "            data_y[idx] = int.from_bytes(b, byteorder=\"big\", signed=False)\n",
    "            bytes_left -= 1\n",
    "            idx += 1\n",
    "        print(\"Done reading...\", end=\" \")\n",
    "    print(\"OK, file closed.\")\n",
    "    \n",
    "    print(\"Min:\", np.min(data_y))\n",
    "    print(\"Mean:\", np.mean(data_y))\n",
    "    print(\"Median:\", np.median(data_y))\n",
    "    print(\"Max:\", np.max(data_y))\n",
    "    print(\"StdDev:\", np.std(data_y))\n",
    "\n",
    "    print(\"Bin counts:\")\n",
    "    print(np.bincount(data_y))\n",
    "\n",
    "    plt.hist(np.hstack(data_y), bins='auto')\n",
    "    \n",
    "    '''\n",
    "        ヒストグラムを保存する\n",
    "    '''\n",
    "    tosave = \"./output/y_tr.png\" if is_train else \"./output/y_te.png\"\n",
    "    plt.savefig(tosave)\n",
    "    plt.show()\n",
    "    \n",
    "    print(\"Writing binary file...\", end=\" \")\n",
    "    towrite = \"data/MNIST/y_tr.dat\" if is_train else \"data/MNIST/y_te.dat\"\n",
    "    with open(towrite, mode=\"bw\") as g_bin:\n",
    "        data_y.tofile(g_bin) # don't forget the dtype used.\n",
    "    print(\"OK.\")\n",
    "    \n",
    "    with open(towrite, mode=\"br\") as g_bin:\n",
    "        data_y_check = np.fromfile(g_bin, dtype=np.uint8)\n",
    "    print(\"OK.\")\n",
    "\n",
    "    print(\"Shapes:\", data_y_check.shape, data_y.shape)\n",
    "    print(\"Difference =\", np.linalg.norm(data_y_check-data_y))\n",
    "    \n",
    "save_labels(is_train=False)\n"
   ]
  },
  {
   "cell_type": "markdown",
   "metadata": {},
   "source": [
    "訓練用データと評価用データでヒストグラムにばらつきはなかった。  \n",
    "頻度が多いのは１、低いのは５。"
   ]
  },
  {
   "cell_type": "markdown",
   "metadata": {},
   "source": [
    "### C-2"
   ]
  },
  {
   "cell_type": "code",
   "execution_count": null,
   "metadata": {
    "collapsed": true
   },
   "outputs": [],
   "source": []
  }
 ],
 "metadata": {
  "kernelspec": {
   "display_name": "Python 3",
   "language": "python",
   "name": "python3"
  },
  "language_info": {
   "codemirror_mode": {
    "name": "ipython",
    "version": 3
   },
   "file_extension": ".py",
   "mimetype": "text/x-python",
   "name": "python",
   "nbconvert_exporter": "python",
   "pygments_lexer": "ipython3",
   "version": "3.5.2"
  }
 },
 "nbformat": 4,
 "nbformat_minor": 2
}

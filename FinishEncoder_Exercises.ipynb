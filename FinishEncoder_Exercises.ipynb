{
 "cells": [
  {
   "cell_type": "markdown",
   "metadata": {},
   "source": [
    "## データの読み込み"
   ]
  },
  {
   "cell_type": "code",
   "execution_count": 4,
   "metadata": {},
   "outputs": [
    {
     "name": "stdout",
     "output_type": "stream",
     "text": [
      "Reading... OK.\n",
      "Reading... OK.\n"
     ]
    }
   ],
   "source": [
    "import scripts.FilterBank as fb\n",
    "import scripts.AlgoIntro as ai\n",
    "import scripts.AlgoSparseReg as asr\n",
    "\n",
    "import numpy as np\n",
    "import math\n",
    "\n",
    "# Import the vim-2 data from the Python binary format we saved earlier.\n",
    "# Assumptions: that the data is saved in the vim-2 directory,\n",
    "# already of 96x96 size, with dtype of np.float32.\n",
    "\n",
    "PIX_W = 48\n",
    "PIX_H = 48\n",
    "dtype=np.float32\n",
    "\n",
    "# Read the raw training data.\n",
    "shape=(PIX_W,PIX_H,3,108000) # (downsized px, downsized px, rgd channels, time steps)\n",
    "# Index for temporal down-sampling. Alternatives: do after the feature-building and aggregate.\n",
    "idx_ds = np.arange(15//2, 108000+1, 15) # need length 7200.\n",
    "fname = \"data/vim-2/X_tr.dat\"\n",
    "with open(fname, mode=\"br\") as fbin:\n",
    "    print(\"Reading...\", end=\" \")\n",
    "    raw_tr = np.fromfile(file=fbin,dtype=dtype).reshape(shape)[:,:,:,idx_ds] # temporally down-sampled.\n",
    "    print(\"OK.\")\n",
    "\n",
    "# Read the raw testing data.\n",
    "shape=(PIX_W,PIX_H,3,8100) # (downsized px, downsized px, rgd channels, time steps)\n",
    "# Index for temporal down-sampling. Alternatives: do after the feature-building and aggregate.\n",
    "idx_ds = np.arange(15//2, 8100+1, 15) # need length 540.\n",
    "fname = \"data/vim-2/X_te.dat\"\n",
    "with open(fname, mode=\"br\") as fbin:\n",
    "    print(\"Reading...\", end=\" \")\n",
    "    raw_te = np.fromfile(file=fbin, dtype=dtype).reshape(shape)[:,:,:,idx_ds] # temporally down-sampled.\n",
    "    print(\"OK.\")\n",
    "\n",
    "    "
   ]
  },
  {
   "cell_type": "markdown",
   "metadata": {},
   "source": [
    "## 特徴量の作成"
   ]
  },
  {
   "cell_type": "code",
   "execution_count": 5,
   "metadata": {
    "collapsed": true
   },
   "outputs": [],
   "source": [
    "def get_features(freqs, direction, amp, sdev, phase, mygrid_h, mygrid_w):\n",
    "\n",
    "    myparas = {\"freqs\": freqs,\n",
    "               \"dir\": direction,\n",
    "               \"amp\": amp,\n",
    "               \"sdev\": sdev,\n",
    "               \"phase\": phase}\n",
    "\n",
    "    X_tr = fb.G2_getfeatures(ims=raw_tr,\n",
    "                             fil_paras=myparas,\n",
    "                             gridshape=(mygrid_h,mygrid_w),\n",
    "                             mode=\"reflect\", cval=0)\n",
    "\n",
    "    X_te = fb.G2_getfeatures(ims=raw_te,\n",
    "                             fil_paras=myparas,\n",
    "                             gridshape=(mygrid_h,mygrid_w),\n",
    "                             mode=\"reflect\", cval=0)\n",
    "    \n",
    "    return X_tr, X_te\n"
   ]
  },
  {
   "cell_type": "code",
   "execution_count": 6,
   "metadata": {
    "collapsed": true
   },
   "outputs": [],
   "source": [
    "# grid_list = [5, 10]\n",
    "# freqs_list = [20/max(PIX_W,PIX_H), 40/max(PIX_W,PIX_H)]\n",
    "# direction_list = [0, math.pi/4, math.pi/2, 3*math.pi/4]\n",
    "# sdev_list = [max(PIX_W,PIX_H)/20, max(PIX_W,PIX_H)/30]\n",
    "\n",
    "grid_list = [10]\n",
    "freqs_list = [20/max(PIX_W,PIX_H), 40/max(PIX_W,PIX_H)]\n",
    "direction_list = [0, math.pi/4, 2*math.pi/4,math.pi/2, 3*math.pi/4]\n",
    "sdev_list = [max(PIX_W,PIX_H)/20, max(PIX_W,PIX_H)/30]\n",
    "\n",
    "param_list = []\n",
    "\n",
    "for grid in grid_list:\n",
    "    for freqs in freqs_list:\n",
    "        for direction in direction_list:\n",
    "            for sdev in sdev_list:\n",
    "                param_list.append({\n",
    "                    'freqs':freqs,\n",
    "                    'direction': direction,\n",
    "                    'amp': 0.1,\n",
    "                    'sdev': sdev,\n",
    "                    'phase': 0,\n",
    "                    'mygrid_h': grid,\n",
    "                    'mygrid_w': grid\n",
    "                })"
   ]
  },
  {
   "cell_type": "code",
   "execution_count": 7,
   "metadata": {},
   "outputs": [
    {
     "name": "stdout",
     "output_type": "stream",
     "text": [
      "{'mygrid_h': 10, 'direction': 0, 'mygrid_w': 10, 'freqs': 0.4166666666666667, 'amp': 0.1, 'sdev': 2.4, 'phase': 0}\n",
      "{'mygrid_h': 10, 'direction': 0, 'mygrid_w': 10, 'freqs': 0.4166666666666667, 'amp': 0.1, 'sdev': 1.6, 'phase': 0}\n",
      "{'mygrid_h': 10, 'direction': 0.7853981633974483, 'mygrid_w': 10, 'freqs': 0.4166666666666667, 'amp': 0.1, 'sdev': 2.4, 'phase': 0}\n",
      "{'mygrid_h': 10, 'direction': 0.7853981633974483, 'mygrid_w': 10, 'freqs': 0.4166666666666667, 'amp': 0.1, 'sdev': 1.6, 'phase': 0}\n",
      "{'mygrid_h': 10, 'direction': 1.5707963267948966, 'mygrid_w': 10, 'freqs': 0.4166666666666667, 'amp': 0.1, 'sdev': 2.4, 'phase': 0}\n",
      "{'mygrid_h': 10, 'direction': 1.5707963267948966, 'mygrid_w': 10, 'freqs': 0.4166666666666667, 'amp': 0.1, 'sdev': 1.6, 'phase': 0}\n",
      "{'mygrid_h': 10, 'direction': 1.5707963267948966, 'mygrid_w': 10, 'freqs': 0.4166666666666667, 'amp': 0.1, 'sdev': 2.4, 'phase': 0}\n",
      "{'mygrid_h': 10, 'direction': 1.5707963267948966, 'mygrid_w': 10, 'freqs': 0.4166666666666667, 'amp': 0.1, 'sdev': 1.6, 'phase': 0}\n",
      "{'mygrid_h': 10, 'direction': 2.356194490192345, 'mygrid_w': 10, 'freqs': 0.4166666666666667, 'amp': 0.1, 'sdev': 2.4, 'phase': 0}\n",
      "{'mygrid_h': 10, 'direction': 2.356194490192345, 'mygrid_w': 10, 'freqs': 0.4166666666666667, 'amp': 0.1, 'sdev': 1.6, 'phase': 0}\n",
      "{'mygrid_h': 10, 'direction': 0, 'mygrid_w': 10, 'freqs': 0.8333333333333334, 'amp': 0.1, 'sdev': 2.4, 'phase': 0}\n",
      "{'mygrid_h': 10, 'direction': 0, 'mygrid_w': 10, 'freqs': 0.8333333333333334, 'amp': 0.1, 'sdev': 1.6, 'phase': 0}\n",
      "{'mygrid_h': 10, 'direction': 0.7853981633974483, 'mygrid_w': 10, 'freqs': 0.8333333333333334, 'amp': 0.1, 'sdev': 2.4, 'phase': 0}\n",
      "{'mygrid_h': 10, 'direction': 0.7853981633974483, 'mygrid_w': 10, 'freqs': 0.8333333333333334, 'amp': 0.1, 'sdev': 1.6, 'phase': 0}\n",
      "{'mygrid_h': 10, 'direction': 1.5707963267948966, 'mygrid_w': 10, 'freqs': 0.8333333333333334, 'amp': 0.1, 'sdev': 2.4, 'phase': 0}\n",
      "{'mygrid_h': 10, 'direction': 1.5707963267948966, 'mygrid_w': 10, 'freqs': 0.8333333333333334, 'amp': 0.1, 'sdev': 1.6, 'phase': 0}\n",
      "{'mygrid_h': 10, 'direction': 1.5707963267948966, 'mygrid_w': 10, 'freqs': 0.8333333333333334, 'amp': 0.1, 'sdev': 2.4, 'phase': 0}\n",
      "{'mygrid_h': 10, 'direction': 1.5707963267948966, 'mygrid_w': 10, 'freqs': 0.8333333333333334, 'amp': 0.1, 'sdev': 1.6, 'phase': 0}\n",
      "{'mygrid_h': 10, 'direction': 2.356194490192345, 'mygrid_w': 10, 'freqs': 0.8333333333333334, 'amp': 0.1, 'sdev': 2.4, 'phase': 0}\n",
      "{'mygrid_h': 10, 'direction': 2.356194490192345, 'mygrid_w': 10, 'freqs': 0.8333333333333334, 'amp': 0.1, 'sdev': 1.6, 'phase': 0}\n"
     ]
    }
   ],
   "source": [
    "X_tr = None\n",
    "X_te = None\n",
    "\n",
    "for param in param_list:\n",
    "    print(param)\n",
    "    X_tr_tmp, X_te_tmp = get_features(\n",
    "        freqs=param['freqs'],\n",
    "        direction=param['direction'],\n",
    "        amp=param['amp'],\n",
    "        sdev=param['sdev'],\n",
    "        phase=param['phase'],\n",
    "        mygrid_h=param['mygrid_h'],\n",
    "        mygrid_w=param['mygrid_w'])\n",
    "    \n",
    "    if type(X_tr) == np.ndarray:\n",
    "        X_tr = np.concatenate((X_tr, X_tr_tmp), axis=1)\n",
    "    else:\n",
    "        X_tr = X_tr_tmp\n",
    "        \n",
    "    if type(X_te) == np.ndarray:\n",
    "        X_te = np.concatenate((X_te, X_te_tmp), axis=1)\n",
    "    else:\n",
    "        X_te = X_te_tmp"
   ]
  },
  {
   "cell_type": "code",
   "execution_count": 8,
   "metadata": {},
   "outputs": [
    {
     "name": "stdout",
     "output_type": "stream",
     "text": [
      "Shape of the produced features:\n",
      "tr: (7200, 2000)\n",
      "te: (540, 2000)\n"
     ]
    }
   ],
   "source": [
    "print(\"Shape of the produced features:\")\n",
    "print(\"tr:\", X_tr.shape)\n",
    "print(\"te:\", X_te.shape)"
   ]
  },
  {
   "cell_type": "markdown",
   "metadata": {},
   "source": [
    "## 特徴量の正規化"
   ]
  },
  {
   "cell_type": "code",
   "execution_count": 9,
   "metadata": {
    "collapsed": true
   },
   "outputs": [],
   "source": [
    "X_tr = X_tr - np.mean(X_tr, axis=0)\n",
    "X_tr = X_tr / np.std(X_tr, axis=0)\n",
    "# print(\"Mean =\", np.mean(X_tr, axis=0), \"StdDev =\", np.std(X_tr, axis=0), \"Shape =\", X_tr.shape)\n",
    "\n",
    "X_te = X_te - np.mean(X_te, axis=0)\n",
    "X_te = X_te / np.std(X_te, axis=0)\n",
    "# print(\"Mean =\", np.mean(X_te, axis=0), \"StdDev =\", np.std(X_te, axis=0), \"Shape =\", X_te.shape)\n",
    "\n",
    "for j in range(X_tr.shape[1]):\n",
    "    stdval = np.std(X_tr[:,j])\n",
    "    X_tr[:,j] = np.clip(X_tr[:,j], a_min=(-stdval), a_max=stdval)\n",
    "    stdval = np.std(X_te[:,j])\n",
    "    X_te[:,j] = np.clip(X_te[:,j], a_min=(-stdval), a_max=stdval)\n"
   ]
  },
  {
   "cell_type": "markdown",
   "metadata": {},
   "source": [
    "## 特徴量をディスクへ書き込み"
   ]
  },
  {
   "cell_type": "code",
   "execution_count": 10,
   "metadata": {},
   "outputs": [
    {
     "name": "stdout",
     "output_type": "stream",
     "text": [
      "Saved to file.\n",
      "Saved to file.\n"
     ]
    }
   ],
   "source": [
    "import support.classes as classes\n",
    "\n",
    "# Make a data_info file for this data, and save as data/encoder/info.dat.\n",
    "dinfo = classes.DataInfo()\n",
    "dinfo.mname = \"Encoder\"\n",
    "\n",
    "fname = \"data/encoder/X_tr.dat\"\n",
    "dtype = raw_tr.dtype\n",
    "shape = raw_tr.shape\n",
    "with open(fname, mode=\"bw\") as fbin:\n",
    "    X_tr.tofile(fbin)\n",
    "    print(\"Saved to file.\")\n",
    "dinfo.X_tr[\"shape\"] = X_tr.shape\n",
    "dinfo.X_tr[\"path\"] = \"data/encoder/X_tr.dat\"\n",
    "dinfo.X_tr[\"dtype\"] = X_tr.dtype\n",
    "    \n",
    "fname = \"data/encoder/X_te.dat\"\n",
    "dtype = raw_te.dtype\n",
    "shape = raw_te.shape\n",
    "with open(fname, mode=\"bw\") as fbin:\n",
    "    X_te.tofile(fbin)\n",
    "    print(\"Saved to file.\")\n",
    "dinfo.X_te[\"shape\"] = X_te.shape\n",
    "dinfo.X_te[\"path\"] = \"data/encoder/X_te.dat\"\n",
    "dinfo.X_te[\"dtype\"] = X_te.dtype"
   ]
  },
  {
   "cell_type": "markdown",
   "metadata": {},
   "source": [
    "## 応答をディスクへ書き込み"
   ]
  },
  {
   "cell_type": "code",
   "execution_count": 11,
   "metadata": {},
   "outputs": [
    {
     "name": "stdout",
     "output_type": "stream",
     "text": [
      "Saved to file.\n"
     ]
    }
   ],
   "source": [
    "\n",
    "import pickle\n",
    "\n",
    "fname = \"data/encoder/y_tr.dat\"\n",
    "dinfo.y_tr[\"shape\"] = (73728, 7200)\n",
    "dinfo.y_tr[\"path\"] = \"data/encoder/y_tr.dat\"\n",
    "dinfo.y_tr[\"dtype\"] = np.float32\n",
    "\n",
    "fname = \"data/encoder/y_te.dat\"\n",
    "dinfo.y_te[\"shape\"] = (73728, 540)\n",
    "dinfo.y_te[\"path\"] = \"data/encoder/y_te.dat\"\n",
    "dinfo.y_te[\"dtype\"] = np.float32\n",
    "\n",
    "dinfo.misc = {\"voxidx\": None} # to be filled in later.\n",
    "\n",
    "with open(\"data/encoder/info.dat\", mode=\"bw\") as fbin:\n",
    "    pickle.dump(dinfo, fbin)\n",
    "    print(\"Saved to file.\")\n"
   ]
  },
  {
   "cell_type": "markdown",
   "metadata": {},
   "source": [
    "## モデルの初期化"
   ]
  },
  {
   "cell_type": "code",
   "execution_count": 12,
   "metadata": {},
   "outputs": [
    {
     "name": "stdout",
     "output_type": "stream",
     "text": [
      "length: 59928\n",
      "length: 63050\n",
      "[ 4355  4356  4357 ..., 73567 73568 73569]\n",
      "[  300   301   302 ..., 73725 73726 73727]\n",
      "cleanidx length: 59928\n",
      "X_tr: {'path': 'data/encoder/X_tr.dat', 'shape': (7200, 2000), 'dtype': dtype('float32')}\n",
      "X_te: {'path': 'data/encoder/X_te.dat', 'shape': (540, 2000), 'dtype': dtype('float32')}\n",
      "y_tr: {'path': 'data/encoder/y_tr.dat', 'shape': (73728, 7200), 'dtype': <class 'numpy.float32'>}\n",
      "y_te: {'path': 'data/encoder/y_te.dat', 'shape': (73728, 540), 'dtype': <class 'numpy.float32'>}\n",
      "mname: Encoder\n",
      "misc: {'voxidx': None}\n"
     ]
    }
   ],
   "source": [
    "import numpy as np\n",
    "import math\n",
    "import pickle\n",
    "import support.parse_model as mp\n",
    "import scripts.AlgoSparseReg as asr\n",
    "\n",
    "# Load the general data info object.\n",
    "with open(\"data/encoder/info.dat\", mode=\"br\") as fbin:\n",
    "    dinfo = pickle.load(fbin)\n",
    "\n",
    "# Load the clean index, extracting indices from binary indicators.\n",
    "with open(\"data/encoder/cleanidx_tr.dat\", mode=\"br\") as fbin:\n",
    "    #cleanidx_tr_RAW = np.fromfile(file=fbin, dtype=np.uint32)\n",
    "    cleanidx_tr = np.flatnonzero(np.fromfile(file=fbin, dtype=np.uint32))\n",
    "    print(\"length:\", cleanidx_tr.size)\n",
    "with open(\"data/encoder/cleanidx_te.dat\", mode=\"br\") as fbin:\n",
    "    #cleanidx_te_RAW = np.fromfile(file=fbin, dtype=np.uint32)\n",
    "    cleanidx_te = np.flatnonzero(np.fromfile(file=fbin, dtype=np.uint32))\n",
    "    print(\"length:\", cleanidx_te.size)\n",
    "    \n",
    "# Take the intersection of the clean voxel indices and sort.\n",
    "cleanidx = np.intersect1d(cleanidx_tr,cleanidx_te)\n",
    "print(cleanidx_tr)\n",
    "print(cleanidx_te)\n",
    "print(\"cleanidx length:\", cleanidx.size)\n",
    "\n",
    "# Load the data info object. We shall modify its voxel index on the fly.\n",
    "with open(\"data/encoder/info.dat\", mode=\"br\") as fbin:\n",
    "    dinfo = pickle.load(fbin)\n",
    "    print(dinfo)\n",
    "\n",
    "# Initialize model and weights for an individual voxel.\n",
    "dinfo.misc[\"voxidx\"] = cleanidx[0]\n",
    "mod = mp.model(dinfo)\n",
    "w_init = mod.w_initialize()\n",
    "\n",
    "\n",
    "lam_min = 1 / mod.n\n",
    "\n",
    "# TODO: set the START and STOP guys with proper computations using mod.X_tr and mod.y_tr.\n",
    "todo_lambda = np.flipud(np.logspace(start=math.log10(lam_min),\n",
    "                                    stop=math.log10(1),\n",
    "                                    num=50))\n",
    "\n",
    "# Store performance metric statistics for each lambda setting.\n",
    "err_overlam = np.zeros(todo_lambda.size, dtype=np.float32)\n",
    "corr_overlam = np.zeros(todo_lambda.size, dtype=np.float32)\n",
    "spar_overlam = np.zeros(todo_lambda.size, dtype=np.float32)"
   ]
  },
  {
   "cell_type": "markdown",
   "metadata": {},
   "source": [
    "## 学習"
   ]
  },
  {
   "cell_type": "code",
   "execution_count": 13,
   "metadata": {},
   "outputs": [
    {
     "name": "stdout",
     "output_type": "stream",
     "text": [
      "Working...\n",
      "0\n",
      "1\n",
      "2\n",
      "3\n",
      "4\n",
      "5\n",
      "6\n",
      "7\n",
      "8\n",
      "9\n",
      "10\n",
      "11\n",
      "12\n",
      "13\n",
      "14\n",
      "15\n",
      "16\n",
      "17\n",
      "18\n",
      "19\n",
      "20\n",
      "21\n",
      "22\n",
      "23\n",
      "24\n",
      "25\n",
      "26\n",
      "27\n",
      "28\n",
      "29\n",
      "30\n",
      "31\n",
      "32\n",
      "33\n",
      "34\n",
      "35\n",
      "36\n",
      "37\n",
      "38\n",
      "39\n",
      "40\n",
      "41\n",
      "42\n",
      "43\n",
      "44\n",
      "45\n",
      "46\n",
      "47\n",
      "48\n",
      "49\n",
      "Done.\n"
     ]
    }
   ],
   "source": [
    "# Iterate over the lambda values once, for a single candidate.\n",
    "print(\"Working...\")\n",
    "for i in range(todo_lambda.size):\n",
    "    print(i)\n",
    "    # Initialize and execute the algorithm.\n",
    "    al = asr.Algo_LASSO_CD(w_init=w_init,\\\n",
    "                           t_max=1000,\n",
    "                           lam_l1=todo_lambda[i],\\\n",
    "                           verbose=False)\n",
    "    \n",
    "    for mystep in al:\n",
    "        al.update(model=mod)\n",
    "    \n",
    "    # Record performance.\n",
    "    w_est = al.w\n",
    "    err_overlam[i] = mod.eval(w_est)[0]\n",
    "    if np.std(np.dot(mod.X_te, w_est)) > 0:\n",
    "        corrval = mod.corr_te(w_est)\n",
    "    else:\n",
    "        corrval = 0  # watch out for zero-variance case.\n",
    "    corr_overlam[i] = corrval\n",
    "    spar_overlam[i] = np.count_nonzero(w_est)\n",
    "    \n",
    "    # Update the initializer to the most current observation.\n",
    "    w_init = w_est\n",
    "\n",
    "print(\"Done.\")"
   ]
  },
  {
   "cell_type": "code",
   "execution_count": 14,
   "metadata": {},
   "outputs": [
    {
     "name": "stdout",
     "output_type": "stream",
     "text": [
      "Saved to file.\n",
      "Saved to file.\n",
      "Saved to file.\n",
      "Saved to file.\n"
     ]
    }
   ],
   "source": [
    "with open(\"raw/encoder/lasso01_lam.raw\", mode=\"bw\") as fbin:\n",
    "    pickle.dump(todo_lambda, fbin)\n",
    "    print(\"Saved to file.\")\n",
    "\n",
    "with open(\"raw/encoder/lasso01_err.raw\", mode=\"bw\") as fbin:\n",
    "    pickle.dump(err_overlam, fbin)\n",
    "    print(\"Saved to file.\")\n",
    "    \n",
    "with open(\"raw/encoder/lasso01_corr.raw\", mode=\"bw\") as fbin:\n",
    "    pickle.dump(corr_overlam, fbin)\n",
    "    print(\"Saved to file.\")\n",
    "    \n",
    "with open(\"raw/encoder/lasso01_spar.raw\", mode=\"bw\") as fbin:\n",
    "    pickle.dump(spar_overlam, fbin)\n",
    "    print(\"Saved to file.\")"
   ]
  },
  {
   "cell_type": "markdown",
   "metadata": {},
   "source": [
    "## 評価"
   ]
  },
  {
   "cell_type": "code",
   "execution_count": 15,
   "metadata": {},
   "outputs": [
    {
     "data": {
      "image/png": "[encoded data removed]",
      "text/plain": [
       "<matplotlib.figure.Figure at 0x7f103d3dd9b0>"
      ]
     },
     "metadata": {},
     "output_type": "display_data"
    }
   ],
   "source": [
    "import pickle\n",
    "import matplotlib\n",
    "import matplotlib.pyplot as plt\n",
    "\n",
    "with open(\"raw/encoder/lasso01_lam.raw\", mode=\"br\") as fbin:\n",
    "    todo_lambda = pickle.load(fbin)\n",
    "\n",
    "with open(\"raw/encoder/lasso01_err.raw\", mode=\"br\") as fbin:\n",
    "    err_overlam = pickle.load(fbin)\n",
    "    \n",
    "with open(\"raw/encoder/lasso01_corr.raw\", mode=\"br\") as fbin:\n",
    "    corr_overlam = pickle.load(fbin)\n",
    "    \n",
    "with open(\"raw/encoder/lasso01_spar.raw\", mode=\"br\") as fbin:\n",
    "    spar_overlam = pickle.load(fbin)\n",
    "\n",
    "myfig = plt.figure(figsize=(18,4))\n",
    "ax_err = myfig.add_subplot(1, 3, 1)\n",
    "plt.ylabel(\"Root mean squared error (RMSE)\")\n",
    "plt.xlabel(\"Lambda values\")\n",
    "ax_err.set_yscale('log')\n",
    "ax_err.set_xscale('log')\n",
    "ax_err.plot(todo_lambda, err_overlam)\n",
    "\n",
    "ax_corr = myfig.add_subplot(1, 3, 2)\n",
    "plt.ylabel(\"Correlation coefficient\")\n",
    "plt.xlabel(\"Lambda values\")\n",
    "ax_corr.set_xscale('log')\n",
    "ax_corr.plot(todo_lambda, corr_overlam)\n",
    "\n",
    "ax_spar = myfig.add_subplot(1, 3, 3)\n",
    "plt.ylabel(\"Number of non-zero weights\")\n",
    "plt.xlabel(\"Lambda values\")\n",
    "ax_spar.set_xscale('log')\n",
    "ax_spar.plot(todo_lambda, spar_overlam)\n",
    "\n",
    "plt.show()\n"
   ]
  },
  {
   "cell_type": "code",
   "execution_count": null,
   "metadata": {
    "collapsed": true
   },
   "outputs": [],
   "source": []
  }
 ],
 "metadata": {
  "kernelspec": {
   "display_name": "Python [default]",
   "language": "python",
   "name": "python3"
  },
  "language_info": {
   "codemirror_mode": {
    "name": "ipython",
    "version": 3
   },
   "file_extension": ".py",
   "mimetype": "text/x-python",
   "name": "python",
   "nbconvert_exporter": "python",
   "pygments_lexer": "ipython3",
   "version": "3.5.2"
  }
 },
 "nbformat": 4,
 "nbformat_minor": 2
}

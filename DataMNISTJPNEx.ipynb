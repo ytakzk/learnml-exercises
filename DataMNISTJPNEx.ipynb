{
 "cells": [
  {
   "cell_type": "markdown",
   "metadata": {},
   "source": [
    "### 練習問題 (B)"
   ]
  },
  {
   "cell_type": "code",
   "execution_count": 21,
   "metadata": {},
   "outputs": [
    {
     "name": "stdout",
     "output_type": "stream",
     "text": [
      "<_io.BufferedReader name='data/MNIST/train-labels-idx1-ubyte'>\n",
      "First four bytes:\n",
      "bytes:  b'\\x00\\x00\\x08\\x01'\n",
      " int:  2049\n",
      "Second four bytes:\n",
      "bytes:  b'\\x00\\x00\\xea`'\n",
      " int:  60000\n",
      "Label = 5\n",
      "Label = 0\n",
      "Label = 4\n",
      "Label = 1\n",
      "Label = 9\n"
     ]
    }
   ],
   "source": [
    "toread = \"data/MNIST/train-labels-idx1-ubyte\"\n",
    "\n",
    "f_bin = open(toread, mode=\"rb\")\n",
    "\n",
    "print(f_bin)\n",
    "\n",
    "print(\"First four bytes:\") # should be magic number, 2049.\n",
    "b = f_bin.read(4)\n",
    "print(\"bytes: \", b)\n",
    "print(\" int: \", int.from_bytes(b, byteorder=\"big\"))\n",
    "\n",
    "print(\"Second four bytes:\") # should be number of observations, 60000.\n",
    "b = f_bin.read(4)\n",
    "print(\"bytes: \", b)\n",
    "print(\" int: \", int.from_bytes(b, byteorder=\"big\"))\n",
    "\n",
    "for t in range(times_todo):\n",
    "\n",
    "    b = f_bin.read(1)\n",
    "    mylabel = int.from_bytes(b, byteorder=\"big\", signed=False)\n",
    "    \n",
    "    print(\"Label =\", mylabel)"
   ]
  },
  {
   "cell_type": "markdown",
   "metadata": {},
   "source": [
    "#### B-2"
   ]
  },
  {
   "cell_type": "code",
   "execution_count": 28,
   "metadata": {},
   "outputs": [
    {
     "name": "stdout",
     "output_type": "stream",
     "text": [
      "Label = 5\n",
      "Label = 0\n",
      "Label = 4\n"
     ]
    }
   ],
   "source": [
    "def seek_label(k):\n",
    "\n",
    "    f_bin.seek(8 + k)\n",
    "    b = f_bin.read(1)\n",
    "    mylabel = int.from_bytes(b, byteorder=\"big\", signed=False)\n",
    "    \n",
    "    print(\"Label =\", mylabel)\n",
    "    \n",
    "seek_label(0)\n",
    "seek_label(1)\n",
    "seek_label(2)"
   ]
  },
  {
   "cell_type": "markdown",
   "metadata": {},
   "source": [
    "#### B-3"
   ]
  },
  {
   "cell_type": "code",
   "execution_count": 35,
   "metadata": {},
   "outputs": [
    {
     "data": {
      "image/png": "[encoded data removed]",
      "text/plain": [
       "<matplotlib.figure.Figure at 0x11c666f98>"
      ]
     },
     "metadata": {},
     "output_type": "display_data"
    },
    {
     "data": {
      "image/png": "[encoded data removed]",
      "text/plain": [
       "<matplotlib.figure.Figure at 0x11b965748>"
      ]
     },
     "metadata": {},
     "output_type": "display_data"
    },
    {
     "data": {
      "image/png": "[encoded data removed]",
      "text/plain": [
       "<matplotlib.figure.Figure at 0x11bf0bd30>"
      ]
     },
     "metadata": {},
     "output_type": "display_data"
    }
   ],
   "source": [
    "import numpy as np\n",
    "import matplotlib.pyplot as plt\n",
    "\n",
    "def seek_image(k):\n",
    "\n",
    "    toread = \"data/MNIST/train-images-idx3-ubyte\"\n",
    "\n",
    "    f_bin = open(toread, mode=\"rb\")\n",
    "\n",
    "    n = 60000 # (anticipated) number of images.\n",
    "    d = 28*28 # number of entries (int values) per image.\n",
    "    times_todo = 5 # number of images to view.\n",
    "    bytes_left = d\n",
    "    data_x = np.zeros((d,), dtype=np.uint8) # initialize.\n",
    "    idx = 0\n",
    "    \n",
    "    f_bin.seek(4*4 + d*k)\n",
    "\n",
    "    while idx < bytes_left:\n",
    "        b = f_bin.read(1)\n",
    "        data_x[idx] = int.from_bytes(b, byteorder=\"big\", signed=False)\n",
    "        idx += 1\n",
    "    img_x = data_x.reshape((28,28))\n",
    "    plt.imshow(img_x, cmap=plt.cm.binary)\n",
    "    plt.show()\n",
    "\n",
    "    f_bin.close()\n",
    "\n",
    "seek_image(0)\n",
    "seek_image(1)\n",
    "seek_image(2)\n"
   ]
  },
  {
   "cell_type": "markdown",
   "metadata": {},
   "source": [
    "### 練習問題 (C)"
   ]
  },
  {
   "cell_type": "markdown",
   "metadata": {},
   "source": [
    "#### C-3"
   ]
  },
  {
   "cell_type": "code",
   "execution_count": 64,
   "metadata": {},
   "outputs": [
    {
     "name": "stdout",
     "output_type": "stream",
     "text": [
      "Reading binary file... Done reading... OK, file closed.\n",
      "Min: 0\n",
      "Mean: 33.3184214498\n",
      "Median: 0.0\n",
      "Max: 255\n",
      "StdDev: 78.5674899834\n",
      "Min: 0.0\n",
      "Mean: 0.130661\n",
      "Median: 0.0\n",
      "Max: 1.0\n",
      "StdDev: 0.308108\n"
     ]
    }
   ],
   "source": [
    "toread = \"data/MNIST/train-images-idx3-ubyte\"\n",
    "n = 60000\n",
    "d = 28*28\n",
    "bytes_left = n * d\n",
    "data_X = np.empty((n*d,), dtype=np.uint8)\n",
    "\n",
    "with open(toread, mode=\"rb\") as f_bin:\n",
    "\n",
    "    f_bin.seek(16) # go to start of images.\n",
    "    idx = 0\n",
    "    \n",
    "    print(\"Reading binary file...\", end=\" \")\n",
    "    while bytes_left > 0:\n",
    "        b = f_bin.read(1)\n",
    "        data_X[idx] = int.from_bytes(b, byteorder=\"big\", signed=False)\n",
    "        bytes_left -= 1\n",
    "        idx += 1\n",
    "    print(\"Done reading...\", end=\" \")\n",
    "print(\"OK, file closed.\")\n",
    "\n",
    "print(\"Min:\", np.min(data_X))\n",
    "print(\"Mean:\", np.mean(data_X))\n",
    "print(\"Median:\", np.median(data_X))\n",
    "print(\"Max:\", np.max(data_X))\n",
    "print(\"StdDev:\", np.std(data_X))\n",
    "\n",
    "data_X_float = np.empty(data_X.shape, dtype=np.float32)\n",
    "data_X_float = np.float32((data_X - np.min(data_X))/(np.max(data_X) - np.min(data_X)))\n",
    "\n",
    "print(\"Min:\", np.min(data_X_float))\n",
    "print(\"Mean:\", np.mean(data_X_float))\n",
    "print(\"Median:\", np.median(data_X_float))\n",
    "print(\"Max:\", np.max(data_X_float))\n",
    "print(\"StdDev:\", np.std(data_X_float))"
   ]
  },
  {
   "cell_type": "code",
   "execution_count": 65,
   "metadata": {},
   "outputs": [
    {
     "name": "stderr",
     "output_type": "stream",
     "text": [
      "/Users/ytakzk/.pyenv/versions/miniconda3-4.3.11/lib/python3.6/site-packages/ipykernel_launcher.py:5: RuntimeWarning: invalid value encountered in true_divide\n",
      "  \"\"\"\n"
     ]
    },
    {
     "name": "stdout",
     "output_type": "stream",
     "text": [
      "Min: -1.27426\n",
      "Mean: -5.34698e-06\n",
      "Median: -0.0656897\n",
      "Max: 244.949\n",
      "StdDev: 0.95634\n"
     ]
    }
   ],
   "source": [
    "data_X_float_reshaped = data_X_float.reshape((n, d))\n",
    "mean_list = data_X_float_reshaped.mean(axis=0, keepdims=True)\n",
    "std_list = data_X_float_reshaped.std(axis=0, keepdims=True)\n",
    "\n",
    "data_X_float_reshaped_std = (data_X_float_reshaped - mean_list) / std_list\n",
    "data_X_float_std = data_X_float_reshaped_std.reshape(-1)\n",
    "\n",
    "data_X_float_std[np.isnan(data_X_float_std) | np.isinf(data_X_float_std)]=0\n",
    "\n",
    "print(\"Min:\", np.min(data_X_float_std))\n",
    "print(\"Mean:\", np.mean(data_X_float_std))\n",
    "print(\"Median:\", np.median(data_X_float_std))\n",
    "print(\"Max:\", np.max(data_X_float_std))\n",
    "print(\"StdDev:\", np.std(data_X_float_std))"
   ]
  },
  {
   "cell_type": "code",
   "execution_count": null,
   "metadata": {},
   "outputs": [],
   "source": []
  }
 ],
 "metadata": {
  "kernelspec": {
   "display_name": "Python 3",
   "language": "python",
   "name": "python3"
  },
  "language_info": {
   "codemirror_mode": {
    "name": "ipython",
    "version": 3
   },
   "file_extension": ".py",
   "mimetype": "text/x-python",
   "name": "python",
   "nbconvert_exporter": "python",
   "pygments_lexer": "ipython3",
   "version": "3.6.0"
  }
 },
 "nbformat": 4,
 "nbformat_minor": 2
}
